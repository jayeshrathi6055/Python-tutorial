{
 "cells": [
  {
   "cell_type": "markdown",
   "metadata": {},
   "source": [
    "# Print Statements"
   ]
  },
  {
   "cell_type": "code",
   "execution_count": 1,
   "metadata": {},
   "outputs": [
    {
     "name": "stdout",
     "output_type": "stream",
     "text": [
      "Hello sir\n",
      "Your number is 5\n"
     ]
    }
   ],
   "source": [
    "# Simple print statement\n",
    "print(\"Hello sir\")\n",
    "\n",
    "a = 5\n",
    "print(\"Your number is\",a)"
   ]
  },
  {
   "cell_type": "code",
   "execution_count": 2,
   "metadata": {},
   "outputs": [
    {
     "name": "stdout",
     "output_type": "stream",
     "text": [
      "Hello sir\n",
      "Your number is 5\n"
     ]
    }
   ],
   "source": [
    "# F string\n",
    "print(f\"Hello sir\")\n",
    "\n",
    "a = 5\n",
    "print(f\"Your number is {a}\")"
   ]
  },
  {
   "cell_type": "code",
   "execution_count": 3,
   "metadata": {},
   "outputs": [
    {
     "name": "stdout",
     "output_type": "stream",
     "text": [
      "Your number a is 5 and b is 3\n"
     ]
    }
   ],
   "source": [
    "a = 5\n",
    "b = 3\n",
    "print(\"Your number a is {} and b is {}\".format(a,b))"
   ]
  },
  {
   "cell_type": "markdown",
   "metadata": {},
   "source": [
    "# List"
   ]
  },
  {
   "cell_type": "code",
   "execution_count": 4,
   "metadata": {},
   "outputs": [
    {
     "name": "stdout",
     "output_type": "stream",
     "text": [
      "[1, 2, 3, 4, 5, 6]\n",
      "<class 'list'>\n"
     ]
    }
   ],
   "source": [
    "# Define a list\n",
    "a = [1,2,3,4,5,6]\n",
    "print(a)\n",
    "print(type(a))"
   ]
  },
  {
   "cell_type": "code",
   "execution_count": 5,
   "metadata": {},
   "outputs": [
    {
     "name": "stdout",
     "output_type": "stream",
     "text": [
      "1\n",
      "2\n",
      "3\n",
      "4\n",
      "5\n",
      "6\n"
     ]
    }
   ],
   "source": [
    "# Access any value in a list\n",
    "print(a[0])\n",
    "print(a[1])\n",
    "print(a[2])\n",
    "print(a[3])\n",
    "print(a[4])\n",
    "print(a[5])"
   ]
  },
  {
   "cell_type": "code",
   "execution_count": 6,
   "metadata": {},
   "outputs": [
    {
     "name": "stdout",
     "output_type": "stream",
     "text": [
      "[1, 2, 8, 4, 5, 6]\n"
     ]
    }
   ],
   "source": [
    "# Change any value in a list\n",
    "a[2] = 8\n",
    "print(a)"
   ]
  },
  {
   "cell_type": "code",
   "execution_count": 7,
   "metadata": {},
   "outputs": [
    {
     "name": "stdout",
     "output_type": "stream",
     "text": [
      "6\n"
     ]
    }
   ],
   "source": [
    "# Check length of list\n",
    "print(len(a))"
   ]
  },
  {
   "cell_type": "code",
   "execution_count": 8,
   "metadata": {},
   "outputs": [
    {
     "name": "stdout",
     "output_type": "stream",
     "text": [
      "[1, 2, 4, 5, 6, 8]\n",
      "[8, 6, 5, 4, 2, 1]\n",
      "[1, 2, 4, 5, 6, 8]\n"
     ]
    }
   ],
   "source": [
    "# sort a list\n",
    "a.sort()  # ------>Ascending order\n",
    "print(a)\n",
    "\n",
    "a.sort(reverse = True)  # ------>Descending order\n",
    "print(a)\n",
    "\n",
    "# temporary sorting in a list\n",
    "print(sorted(a))"
   ]
  },
  {
   "cell_type": "code",
   "execution_count": 9,
   "metadata": {},
   "outputs": [
    {
     "name": "stdout",
     "output_type": "stream",
     "text": [
      "[8, 6, 5, 4, 2, 1, 10]\n"
     ]
    }
   ],
   "source": [
    "# append in a list\n",
    "a.append(10)\n",
    "print(a)"
   ]
  },
  {
   "cell_type": "code",
   "execution_count": 10,
   "metadata": {},
   "outputs": [
    {
     "name": "stdout",
     "output_type": "stream",
     "text": [
      "[8, 6, 5, 4, 2, 1]\n",
      "[8, 6, 4, 2, 1]\n"
     ]
    }
   ],
   "source": [
    "# Pop in a list\n",
    "a.pop()\n",
    "print(a)\n",
    "\n",
    "# Pop with index\n",
    "a.pop(2)\n",
    "print(a)"
   ]
  },
  {
   "cell_type": "code",
   "execution_count": 11,
   "metadata": {},
   "outputs": [
    {
     "name": "stdout",
     "output_type": "stream",
     "text": [
      "[8, 6, 3, 4, 2, 1]\n"
     ]
    }
   ],
   "source": [
    "# Insert in a list\n",
    "a.insert(2,3)  #---->index,value\n",
    "print(a)"
   ]
  },
  {
   "cell_type": "code",
   "execution_count": 12,
   "metadata": {},
   "outputs": [
    {
     "name": "stdout",
     "output_type": "stream",
     "text": [
      "[1, 2, 4, 3, 6, 8]\n"
     ]
    }
   ],
   "source": [
    "# Reverse a list\n",
    "a.reverse()\n",
    "print(a)"
   ]
  },
  {
   "cell_type": "code",
   "execution_count": 13,
   "metadata": {},
   "outputs": [
    {
     "name": "stdout",
     "output_type": "stream",
     "text": [
      "[0, 1, 2, 3, 4, 5, 6, 7, 8, 9]\n"
     ]
    }
   ],
   "source": [
    "# List Comprehension\n",
    "num = [i for i in range(10)]\n",
    "print(num)"
   ]
  },
  {
   "cell_type": "code",
   "execution_count": 14,
   "metadata": {},
   "outputs": [
    {
     "name": "stdout",
     "output_type": "stream",
     "text": [
      "[0, 1, 2, 3, 4, 6, 7, 8, 9]\n"
     ]
    }
   ],
   "source": [
    "# Remove by name\n",
    "num.remove(5)\n",
    "print(num)"
   ]
  },
  {
   "cell_type": "code",
   "execution_count": 15,
   "metadata": {},
   "outputs": [
    {
     "name": "stdout",
     "output_type": "stream",
     "text": [
      "15\n"
     ]
    }
   ],
   "source": [
    "# Lambda function\n",
    "num1 =  lambda x:x+10 \n",
    "print(num1(5))"
   ]
  },
  {
   "cell_type": "markdown",
   "metadata": {},
   "source": [
    "# Tuple"
   ]
  },
  {
   "cell_type": "code",
   "execution_count": 16,
   "metadata": {},
   "outputs": [
    {
     "name": "stdout",
     "output_type": "stream",
     "text": [
      "(1, 2, 3, 4, 5)\n",
      "<class 'tuple'>\n"
     ]
    }
   ],
   "source": [
    "# Define a tuple\n",
    "b = (1,2,3,4,5)\n",
    "print(b)\n",
    "print(type(b))"
   ]
  },
  {
   "cell_type": "code",
   "execution_count": 17,
   "metadata": {},
   "outputs": [
    {
     "name": "stdout",
     "output_type": "stream",
     "text": [
      "1\n",
      "2\n",
      "3\n",
      "4\n",
      "5\n"
     ]
    }
   ],
   "source": [
    "# Access any value\n",
    "print(b[0])\n",
    "print(b[1])\n",
    "print(b[2])\n",
    "print(b[3])\n",
    "print(b[4])"
   ]
  },
  {
   "cell_type": "code",
   "execution_count": 18,
   "metadata": {},
   "outputs": [
    {
     "name": "stdout",
     "output_type": "stream",
     "text": [
      "5\n"
     ]
    }
   ],
   "source": [
    "# Check length of tuple\n",
    "print(len(b))"
   ]
  },
  {
   "cell_type": "markdown",
   "metadata": {},
   "source": [
    "# Dictionary"
   ]
  },
  {
   "cell_type": "code",
   "execution_count": 19,
   "metadata": {},
   "outputs": [
    {
     "name": "stdout",
     "output_type": "stream",
     "text": [
      "{'name': 'Tom', 'age': '20', 'color': 'black'}\n",
      "<class 'dict'>\n"
     ]
    }
   ],
   "source": [
    "# Define a dictionary\n",
    "dic = {\"name\":\"Tom\",\"age\":\"20\",\"color\":\"black\"}\n",
    "print(dic)\n",
    "print(type(dic))"
   ]
  },
  {
   "cell_type": "code",
   "execution_count": 20,
   "metadata": {},
   "outputs": [
    {
     "name": "stdout",
     "output_type": "stream",
     "text": [
      "Tom\n",
      "20\n",
      "black\n"
     ]
    }
   ],
   "source": [
    "# Access a value\n",
    "print(dic[\"name\"])\n",
    "print(dic[\"age\"])\n",
    "print(dic[\"color\"])"
   ]
  },
  {
   "cell_type": "code",
   "execution_count": 21,
   "metadata": {},
   "outputs": [
    {
     "name": "stdout",
     "output_type": "stream",
     "text": [
      "{'name': 'Jerry', 'age': '20', 'color': 'black'}\n"
     ]
    }
   ],
   "source": [
    "# change a value\n",
    "dic[\"name\"] = \"Jerry\"\n",
    "print(dic)"
   ]
  },
  {
   "cell_type": "code",
   "execution_count": 22,
   "metadata": {},
   "outputs": [
    {
     "name": "stdout",
     "output_type": "stream",
     "text": [
      "{'name': 'Jerry', 'age': '20', 'color': 'black', 'height': '6'}\n"
     ]
    }
   ],
   "source": [
    "# Add anything\n",
    "dic[\"height\"] = \"6\"\n",
    "print(dic)"
   ]
  },
  {
   "cell_type": "code",
   "execution_count": 23,
   "metadata": {},
   "outputs": [
    {
     "name": "stdout",
     "output_type": "stream",
     "text": [
      "name = Jerry\n",
      "age = 20\n",
      "color = black\n",
      "height = 6\n"
     ]
    }
   ],
   "source": [
    "# For loop in dictionary\n",
    "for key,value in dic.items():\n",
    "    print(key+\" = \"+value)"
   ]
  },
  {
   "cell_type": "code",
   "execution_count": 24,
   "metadata": {},
   "outputs": [
    {
     "name": "stdout",
     "output_type": "stream",
     "text": [
      "4\n"
     ]
    }
   ],
   "source": [
    "# Check length of dictionary\n",
    "print(len(dic))"
   ]
  },
  {
   "cell_type": "markdown",
   "metadata": {},
   "source": [
    "# Set"
   ]
  },
  {
   "cell_type": "code",
   "execution_count": 25,
   "metadata": {},
   "outputs": [
    {
     "name": "stdout",
     "output_type": "stream",
     "text": [
      "{0, 1, 2, 3, 4, 5, 35, 7, 9, 82}\n",
      "<class 'set'>\n"
     ]
    }
   ],
   "source": [
    "# Define a set\n",
    "s = {0,1,2,3,5,1,4,7,82,9,35,4,1}\n",
    "print(s)\n",
    "print(type(s))"
   ]
  },
  {
   "cell_type": "code",
   "execution_count": 26,
   "metadata": {},
   "outputs": [
    {
     "name": "stdout",
     "output_type": "stream",
     "text": [
      "10\n"
     ]
    }
   ],
   "source": [
    "# Check length of set\n",
    "print(len(s))"
   ]
  },
  {
   "cell_type": "markdown",
   "metadata": {},
   "source": [
    "# Function"
   ]
  },
  {
   "cell_type": "code",
   "execution_count": 27,
   "metadata": {},
   "outputs": [
    {
     "name": "stdout",
     "output_type": "stream",
     "text": [
      "9\n"
     ]
    }
   ],
   "source": [
    "# Simple add function\n",
    "def add(a,b):\n",
    "    return a+b\n",
    "\n",
    "result = add(5,4)\n",
    "print(result)"
   ]
  },
  {
   "cell_type": "code",
   "execution_count": 28,
   "metadata": {},
   "outputs": [
    {
     "name": "stdout",
     "output_type": "stream",
     "text": [
      "9\n",
      "11\n"
     ]
    }
   ],
   "source": [
    "# function with default arguement\n",
    "def add1(a,b = 4):\n",
    "    return a+b\n",
    "\n",
    "result = add1(5)\n",
    "print(result)\n",
    "\n",
    "# Want to change default arguement\n",
    "result = add1(5,6)\n",
    "print(result)"
   ]
  },
  {
   "cell_type": "code",
   "execution_count": 29,
   "metadata": {},
   "outputs": [
    {
     "name": "stdout",
     "output_type": "stream",
     "text": [
      "120\n"
     ]
    }
   ],
   "source": [
    "# Recurssion\n",
    "def factorial(n):\n",
    "    if (n==0):\n",
    "        return 1\n",
    "    return n*factorial(n-1)\n",
    "\n",
    "a = factorial(5)\n",
    "print(a)"
   ]
  },
  {
   "cell_type": "markdown",
   "metadata": {},
   "source": [
    "# File read/write"
   ]
  },
  {
   "cell_type": "code",
   "execution_count": 30,
   "metadata": {},
   "outputs": [
    {
     "data": {
      "text/plain": [
       "'I am boss\\nyou are rocks'"
      ]
     },
     "execution_count": 30,
     "metadata": {},
     "output_type": "execute_result"
    }
   ],
   "source": [
    "# Read any file\n",
    "f = open('text.txt')\n",
    "f.read()"
   ]
  },
  {
   "cell_type": "code",
   "execution_count": 31,
   "metadata": {},
   "outputs": [
    {
     "data": {
      "text/plain": [
       "11"
      ]
     },
     "execution_count": 31,
     "metadata": {},
     "output_type": "execute_result"
    }
   ],
   "source": [
    "# Write in a file\n",
    "f = open('text1.txt','wt')\n",
    "f.write('We are boss')"
   ]
  },
  {
   "cell_type": "code",
   "execution_count": 32,
   "metadata": {},
   "outputs": [
    {
     "data": {
      "text/plain": [
       "'We are boss'"
      ]
     },
     "execution_count": 32,
     "metadata": {},
     "output_type": "execute_result"
    }
   ],
   "source": [
    "f = open('text1.txt')\n",
    "f.read()"
   ]
  },
  {
   "cell_type": "code",
   "execution_count": 33,
   "metadata": {},
   "outputs": [
    {
     "data": {
      "text/plain": [
       "13"
      ]
     },
     "execution_count": 33,
     "metadata": {},
     "output_type": "execute_result"
    }
   ],
   "source": [
    "# Append in a file\n",
    "f = open('text1.txt','at')\n",
    "f.write(' but not you.')"
   ]
  },
  {
   "cell_type": "code",
   "execution_count": 34,
   "metadata": {},
   "outputs": [
    {
     "data": {
      "text/plain": [
       "'We are boss but not you.'"
      ]
     },
     "execution_count": 34,
     "metadata": {},
     "output_type": "execute_result"
    }
   ],
   "source": [
    "f = open('text1.txt')\n",
    "f.read()"
   ]
  },
  {
   "cell_type": "code",
   "execution_count": 35,
   "metadata": {},
   "outputs": [
    {
     "name": "stdout",
     "output_type": "stream",
     "text": [
      "I am boss\n",
      "you are rocks\n"
     ]
    }
   ],
   "source": [
    "# Another method to open a file\n",
    "with open('text.txt') as file:\n",
    "    a = file.read()\n",
    "    print(a)"
   ]
  },
  {
   "cell_type": "markdown",
   "metadata": {},
   "source": [
    "# Class"
   ]
  },
  {
   "cell_type": "code",
   "execution_count": 36,
   "metadata": {},
   "outputs": [
    {
     "name": "stdout",
     "output_type": "stream",
     "text": [
      "Your salary is 10000 and roll is 1\n",
      "Your salary is 20000 and roll is 24\n"
     ]
    }
   ],
   "source": [
    "# Syntax of class(without arguments)\n",
    "class Emp():\n",
    "    salary = 10000\n",
    "    roll = 1\n",
    "    def details(self):\n",
    "        print(f\"Your salary is {self.salary} and roll is {self.roll}\")\n",
    "\n",
    "# Calling a class\n",
    "a = Emp()\n",
    "a.details()\n",
    "\n",
    "# Change value in class\n",
    "a.salary = 20000\n",
    "a.roll = 24\n",
    "a.details()"
   ]
  },
  {
   "cell_type": "code",
   "execution_count": 37,
   "metadata": {},
   "outputs": [
    {
     "name": "stdout",
     "output_type": "stream",
     "text": [
      "Your salary is 40000 and roll is 21\n"
     ]
    }
   ],
   "source": [
    "# Syntax of class(with arguments)\n",
    "class Employee():\n",
    "    def __init__(self,salary,roll):\n",
    "        self.s = salary\n",
    "        self.r = roll\n",
    "    def detail(self):\n",
    "        print(f\"Your salary is {self.s} and roll is {self.r}\")\n",
    "        \n",
    "a = Employee(40000,21)\n",
    "a.detail()"
   ]
  },
  {
   "cell_type": "code",
   "execution_count": 38,
   "metadata": {},
   "outputs": [
    {
     "name": "stdout",
     "output_type": "stream",
     "text": [
      "I am the boss\n",
      "Your salary is 10000 and roll is 1\n"
     ]
    }
   ],
   "source": [
    "# Single inheritance\n",
    "class Boss(Emp):\n",
    "    def honour(self):\n",
    "        print(f\"I am the boss\")\n",
    "        \n",
    "b = Boss()\n",
    "b.honour()\n",
    "\n",
    "b.details()"
   ]
  },
  {
   "cell_type": "code",
   "execution_count": 39,
   "metadata": {},
   "outputs": [
    {
     "name": "stdout",
     "output_type": "stream",
     "text": [
      "I am the boss\n",
      "Your salary is 10000 and roll is 1\n",
      "Your salary is 50000 and roll is 20\n"
     ]
    }
   ],
   "source": [
    "# Multiple inheritance\n",
    "class Boss(Emp,Employee):\n",
    "    def honour(self):\n",
    "        print(f\"I am the boss\")\n",
    "        \n",
    "b = Boss(50000,20)\n",
    "b.honour()\n",
    "\n",
    "b.details()\n",
    "\n",
    "b.detail()"
   ]
  },
  {
   "cell_type": "code",
   "execution_count": 40,
   "metadata": {},
   "outputs": [
    {
     "name": "stdout",
     "output_type": "stream",
     "text": [
      "Hi\n",
      "I am J\n",
      "and you\n"
     ]
    }
   ],
   "source": [
    "# Multilevel inheritance\n",
    "class A:\n",
    "    def line1(self):\n",
    "        print(\"Hi\")\n",
    "\n",
    "class B(A):\n",
    "    def line2(self):\n",
    "        print(\"I am J\")\n",
    "        \n",
    "class C(B):\n",
    "    def line3(self):\n",
    "        print(\"and you\")\n",
    "        \n",
    "        \n",
    "d = C()\n",
    "d.line1()\n",
    "d.line2()\n",
    "d.line3()"
   ]
  }
 ],
 "metadata": {
  "kernelspec": {
   "display_name": "Python 3",
   "language": "python",
   "name": "python3"
  },
  "language_info": {
   "codemirror_mode": {
    "name": "ipython",
    "version": 3
   },
   "file_extension": ".py",
   "mimetype": "text/x-python",
   "name": "python",
   "nbconvert_exporter": "python",
   "pygments_lexer": "ipython3",
   "version": "3.7.6"
  }
 },
 "nbformat": 4,
 "nbformat_minor": 4
}
